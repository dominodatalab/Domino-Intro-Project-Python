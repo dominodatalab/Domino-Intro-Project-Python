{
 "cells": [
  {
   "cell_type": "markdown",
   "metadata": {},
   "source": [
    "## Intro to Domino Project\n",
    "\n",
    "See the getting started [docs](https://docs.dominodatalab.com/en/4.1/get_started/index.html) to set up this project. This notebook outlines step 5, using Jupyter to load, explore, and transform some data. After the data has been prepared, we will train a model.\n",
    "\n",
    "See [this document](https://www.bmreports.com/bmrs/?q=generation/fueltype/current) for information on the data and column headers."
   ]
  },
  {
   "cell_type": "code",
   "execution_count": null,
   "metadata": {},
   "outputs": [],
   "source": [
    "#import the packages we need\n",
    "%matplotlib inline\n",
    "import pandas as pd\n",
    "import datetime"
   ]
  },
  {
   "cell_type": "code",
   "execution_count": null,
   "metadata": {},
   "outputs": [],
   "source": [
    "#read in our data\n",
    "df = pd.read_csv('data.csv', skiprows=1, skipfooter=1, header=None, engine='python')"
   ]
  },
  {
   "cell_type": "code",
   "execution_count": null,
   "metadata": {},
   "outputs": [],
   "source": [
    "#rename the columns\n",
    "df = df.iloc[:,0:18]\n",
    "df.columns = ['HDF', 'date', 'half_hour_increment',\n",
    "              'CCGT', 'OIL', 'COAL', 'NUCLEAR',\n",
    "              'WIND', 'PS', 'NPSHYD', 'OCGT',\n",
    "              'OTHER', 'INTFR', 'INTIRL', 'INTNED',\n",
    "               'INTEW', 'BIOMASS', 'INTEM']\n",
    "\n",
    "#look at our data frame\n",
    "df.head()"
   ]
  },
  {
   "cell_type": "code",
   "execution_count": null,
   "metadata": {},
   "outputs": [],
   "source": [
    "#Create a new column datetime that represents the starting datetime of the measured increment\n",
    "df['datetime'] = pd.to_datetime(df['date'], format=\"%Y%m%d\")\n",
    "df['datetime'] = df.apply(lambda x:x['datetime']+ datetime.timedelta(minutes=30*(int(x['half_hour_increment'])-1)), \n",
    "                          axis = 1)"
   ]
  },
  {
   "cell_type": "code",
   "execution_count": null,
   "metadata": {},
   "outputs": [],
   "source": [
    "#Visualize the data to see how each fuel type is used during the day by plotting the data\n",
    "df.drop(['HDF', 'date', 'half_hour_increment'], axis = 1).set_index('datetime').plot(figsize=(15,8));"
   ]
  },
  {
   "cell_type": "markdown",
   "metadata": {},
   "source": [
    "### Train our model\n",
    "The CCGT column representing “combined-cycle gas turbines” seems to be the most interesting. It generates a lot of energy and is very volatile.\n",
    "\n",
    "We will concentrate on this column and try to predict the power generation from this fuel source."
   ]
  },
  {
   "cell_type": "code",
   "execution_count": null,
   "metadata": {},
   "outputs": [],
   "source": [
    "#install Facebook Prophet. Note that this install will not persist beyond this session\n",
    "!pip install -q --user \"convertdate==2.1.2\" \"holidays==0.10.3\" \"lunarcalendar==0.0.9\" \"pystan==2.19.1.1\"\n",
    "!pip install -q --user \"fbprophet==0.7.1\""
   ]
  },
  {
   "cell_type": "code",
   "execution_count": null,
   "metadata": {},
   "outputs": [],
   "source": [
    "#Prep our data - for Facebook Prophet, the time series data needs to be in a DataFrame with 2 columns named ds and y\n",
    "df_for_prophet = df[['datetime', 'CCGT']].rename(columns = {'datetime':'ds', 'CCGT':'y'})"
   ]
  },
  {
   "cell_type": "code",
   "execution_count": null,
   "metadata": {},
   "outputs": [],
   "source": [
    "#Split the dataset into train and test sets\n",
    "X = df_for_prophet.copy()\n",
    "y = df_for_prophet['y']\n",
    "\n",
    "proportion_in_training = 0.8\n",
    "split_index = int(proportion_in_training*len(y))\n",
    "\n",
    "X_train, y_train = X.iloc[:split_index], y.iloc[:split_index]\n",
    "X_test, y_test = X.iloc[split_index:], y.iloc[split_index:]"
   ]
  },
  {
   "cell_type": "code",
   "execution_count": null,
   "metadata": {},
   "outputs": [],
   "source": [
    "#mport Facebook Prophet and fit a model\n",
    "from fbprophet import Prophet\n",
    "from dateutil.easter import easter\n",
    "\n",
    "m = Prophet(yearly_seasonality=False)\n",
    "m.fit(X_train);"
   ]
  },
  {
   "cell_type": "code",
   "execution_count": null,
   "metadata": {},
   "outputs": [],
   "source": [
    "#Make a DataFrame to hold the predictions and predict future values of CCGT power generation\n",
    "\n",
    "future = m.make_future_dataframe(periods=int(len(y_test)/2), freq='H')\n",
    "forecast = m.predict(future)\n",
    "\n",
    "#inspect the dataframe\n",
    "forecast[['ds', 'yhat', 'yhat_lower', 'yhat_upper']].tail()"
   ]
  },
  {
   "cell_type": "code",
   "execution_count": null,
   "metadata": {},
   "outputs": [],
   "source": [
    "#Plot the fitted line with the training and test data\n",
    "import matplotlib.pyplot as plt\n",
    "\n",
    "plt.gcf();\n",
    "fig = m.plot(forecast);\n",
    "plt.plot(X_test['ds'].dt.to_pydatetime(), X_test['y'], 'r', linewidth = 1, linestyle = '--', label = 'real');\n",
    "plt.legend();"
   ]
  },
  {
   "cell_type": "markdown",
   "metadata": {},
   "source": [
    "### Export trained model\n",
    "Trained models are meant to be used. There is no reason to re-train the model each time you use the model. Export or serialize the model to a file to load and reuse the model later. In Python, the pickle module implements protocols for serializing and de-serializing objects."
   ]
  },
  {
   "cell_type": "code",
   "execution_count": null,
   "metadata": {},
   "outputs": [],
   "source": [
    "#export the trained model as a pickle file for later use\n",
    "import pickle\n",
    "m.stan_backend.logger = None    #uncomment if using Python 3.6 and fbprophet==0.6\n",
    "with open(\"model.pkl\", \"wb\") as f:\n",
    "      pickle.dump(m, f)"
   ]
  },
  {
   "cell_type": "code",
   "execution_count": null,
   "metadata": {},
   "outputs": [],
   "source": []
  }
 ],
 "metadata": {
  "kernelspec": {
   "display_name": "Python 3",
   "language": "python",
   "name": "python3"
  },
  "language_info": {
   "codemirror_mode": {
    "name": "ipython",
    "version": 3
   },
   "file_extension": ".py",
   "mimetype": "text/x-python",
   "name": "python",
   "nbconvert_exporter": "python",
   "pygments_lexer": "ipython3",
   "version": "3.7.4"
  }
 },
 "nbformat": 4,
 "nbformat_minor": 4
}
